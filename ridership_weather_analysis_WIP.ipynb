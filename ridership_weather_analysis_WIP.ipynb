{
 "cells": [
  {
   "cell_type": "code",
   "execution_count": 22,
   "id": "50c00032",
   "metadata": {},
   "outputs": [],
   "source": [
    "import pandas as pd\n",
    "import numpy as np\n",
    "import geopandas as gpd\n",
    "import dask.dataframe as dd\n",
    "from dask.diagnostics import ProgressBar\n",
    "from datetime import datetime\n",
    "from matplotlib import pyplot as plt\n",
    "import scipy\n",
    "from statsmodels.graphics.tsaplots import plot_acf\n",
    "\n",
    "import matplotlib\n",
    "import matplotlib.pyplot as plt\n",
    "\n",
    "import statsmodels.formula.api as smf\n",
    "import statsmodels.api as sm\n",
    "from statsmodels.tsa.seasonal import seasonal_decompose\n",
    "import seaborn as sns\n",
    "import warnings\n",
    "%matplotlib inline\n",
    "warnings.filterwarnings('ignore')"
   ]
  },
  {
   "cell_type": "code",
   "execution_count": 31,
   "id": "106e5b76",
   "metadata": {},
   "outputs": [],
   "source": [
    "from pandas.tseries.holiday import USFederalHolidayCalendar as calander"
   ]
  },
  {
   "cell_type": "markdown",
   "id": "910de03f",
   "metadata": {},
   "source": [
    "## Data Downloading & Preprocessing"
   ]
  },
  {
   "cell_type": "markdown",
   "id": "89f6c84f",
   "metadata": {},
   "source": [
    "### 1.Uber Dataset Downloading"
   ]
  },
  {
   "cell_type": "code",
   "execution_count": 1,
   "id": "c5bd7cbf",
   "metadata": {},
   "outputs": [],
   "source": [
    "import requests\n",
    "def downloadData():\n",
    "    csv_url_head = 'https://s3.amazonaws.com/nyc-tlc/trip+data/fhvhv_tripdata_'  \n",
    "    for year in ['2019','2020']:\n",
    "        for month in ['01','02','03','04','05','06','07','08','09','10','11','12']:\n",
    "            req = requests.get(csv_url_head+year+'-'+month+'.csv')\n",
    "            url_content = req.content\n",
    "            csv_file = open('hvfhv_tripdata_'+year+'-'+month+'.csv', 'wb')\n",
    "            csv_file.write(url_content)\n",
    "            csv_file.close()\n",
    "#!curl https://s3.amazonaws.com/nyc-tlc/trip+data/yellow_tripdata_2020-01.csv > yellow_tripdata_2020-01.csv    \n",
    "downloadData()"
   ]
  },
  {
   "cell_type": "code",
   "execution_count": 44,
   "id": "6659d534",
   "metadata": {},
   "outputs": [],
   "source": [
    "hvfhv = dd.read_csv('hvfhv_tripdata_20*.csv', \n",
    "                 dtype={'PULocationID': 'float64'},\n",
    "                usecols=['hvfhs_license_num','dispatching_base_num','pickup_datetime','PULocationID'])"
   ]
  },
  {
   "cell_type": "code",
   "execution_count": 45,
   "id": "55e5991d",
   "metadata": {},
   "outputs": [],
   "source": [
    "hvfhv['pickup_datetime'] = dd.to_datetime(hvfhv['pickup_datetime'])\n",
    "hvfhv['PU_Date'] = hvfhv['pickup_datetime'].dt.normalize()\n",
    "hvfhv['PU_Month'] = hvfhv['pickup_datetime'].dt.month\n",
    "hvfhv['PU_Time'] = hvfhv['pickup_datetime'].dt.hour\n",
    "hvfhv['PU_Weekday'] = hvfhv['pickup_datetime'].dt.day_name()"
   ]
  },
  {
   "cell_type": "code",
   "execution_count": 46,
   "id": "292f9d66",
   "metadata": {},
   "outputs": [],
   "source": [
    "def time_slots(x):\n",
    "    if x in range(6,12):\n",
    "        return 'Morning'\n",
    "    elif x in range(12,17):\n",
    "        return 'Afternoon'\n",
    "    elif x in range(17,22):\n",
    "        return 'Evening'\n",
    "    else:\n",
    "        return 'Late Night'\n",
    "def season_tag(x):\n",
    "    if x in (1,2,12):\n",
    "        return 'Winter'\n",
    "    elif x in range(3,6):\n",
    "        return 'Spring'\n",
    "    elif x in range(6,9):\n",
    "        return 'Summer'\n",
    "    else:\n",
    "        return 'Autumn'\n",
    "    \n",
    "hvfhv['time_desc'] = hvfhv['PU_Time'].apply(time_slots)\n",
    "hvfhv['season'] = hvfhv['PU_Month'].apply(season_tag)"
   ]
  },
  {
   "cell_type": "code",
   "execution_count": 47,
   "id": "db52b05e",
   "metadata": {},
   "outputs": [
    {
     "name": "stdout",
     "output_type": "stream",
     "text": [
      "CPU times: user 13min 59s, sys: 4min 18s, total: 18min 18s\n",
      "Wall time: 16min 52s\n",
      "CPU times: user 1min 36s, sys: 4min 45s, total: 6min 21s\n",
      "Wall time: 9min 21s\n"
     ]
    }
   ],
   "source": [
    "#keep taxi records from Uber company\n",
    "%time Uber_data = hvfhv[hvfhv['hvfhs_license_num']=='HV0003'].compute()\n",
    "#drop rows with unusual date\n",
    "%time Uber_data = Uber_data[(Uber_data['pickup_datetime'].dt.year >2018) & (Uber_data['pickup_datetime'].dt.year <=2020)]"
   ]
  },
  {
   "cell_type": "code",
   "execution_count": 48,
   "id": "58aa10b5",
   "metadata": {},
   "outputs": [],
   "source": [
    "#cal = calander()\n",
    "#holidays = cal.holidays(start='2019-01-01', end='2020-12-31')\n",
    "#Uber_data['PU_holiday'] = Uber_data['PU_Date'].isin(holidays)\n",
    "Uber_data['PU_DOW'] = Uber_data['PU_Date'].dt.dayofweek\n",
    "\n",
    "#Uber_data.loc[Uber_data['PU_week'] >= 5, 'day_type'] = \"weekend\"\n",
    "#Uber_data.loc[Uber_data['PU_week'] < 5, 'day_type'] = \"workday\"\n",
    "#Uber_data.loc[Uber_data['holiday'] == True, 'day_type'] = \"holiday\"\n",
    "#Uber_data = Uber_data.drop(['holiday', 'week'], axis=1)\n",
    "Uber_data['PU_year'] = Uber_data['pickup_datetime'].dt.year"
   ]
  },
  {
   "cell_type": "code",
   "execution_count": 49,
   "id": "303b2d65",
   "metadata": {},
   "outputs": [],
   "source": [
    "#output uber data to csv and save for next time use\n",
    "Uber_data.to_csv(\"uber_data_19-20.csv\")"
   ]
  },
  {
   "cell_type": "code",
   "execution_count": 3,
   "id": "20b6847c",
   "metadata": {
    "scrolled": true
   },
   "outputs": [],
   "source": [
    "Uber_data = dd.read_csv('uber_data_19-20.csv')"
   ]
  },
  {
   "cell_type": "code",
   "execution_count": 4,
   "id": "7a96d792",
   "metadata": {
    "scrolled": true
   },
   "outputs": [
    {
     "data": {
      "text/html": [
       "<div>\n",
       "<style scoped>\n",
       "    .dataframe tbody tr th:only-of-type {\n",
       "        vertical-align: middle;\n",
       "    }\n",
       "\n",
       "    .dataframe tbody tr th {\n",
       "        vertical-align: top;\n",
       "    }\n",
       "\n",
       "    .dataframe thead th {\n",
       "        text-align: right;\n",
       "    }\n",
       "</style>\n",
       "<table border=\"1\" class=\"dataframe\">\n",
       "  <thead>\n",
       "    <tr style=\"text-align: right;\">\n",
       "      <th></th>\n",
       "      <th>Unnamed: 0</th>\n",
       "      <th>hvfhs_license_num</th>\n",
       "      <th>dispatching_base_num</th>\n",
       "      <th>pickup_datetime</th>\n",
       "      <th>PULocationID</th>\n",
       "      <th>PU_Date</th>\n",
       "      <th>PU_Month</th>\n",
       "      <th>PU_Time</th>\n",
       "      <th>PU_Weekday</th>\n",
       "      <th>time_desc</th>\n",
       "      <th>season</th>\n",
       "      <th>PU_DOW</th>\n",
       "      <th>PU_year</th>\n",
       "    </tr>\n",
       "  </thead>\n",
       "  <tbody>\n",
       "    <tr>\n",
       "      <th>0</th>\n",
       "      <td>0</td>\n",
       "      <td>HV0003</td>\n",
       "      <td>B02867</td>\n",
       "      <td>2019-02-01 00:05:18</td>\n",
       "      <td>245.0</td>\n",
       "      <td>2019-02-01 00:00:00</td>\n",
       "      <td>2</td>\n",
       "      <td>0</td>\n",
       "      <td>Friday</td>\n",
       "      <td>Late Night</td>\n",
       "      <td>Winter</td>\n",
       "      <td>4</td>\n",
       "      <td>2019</td>\n",
       "    </tr>\n",
       "    <tr>\n",
       "      <th>1</th>\n",
       "      <td>1</td>\n",
       "      <td>HV0003</td>\n",
       "      <td>B02879</td>\n",
       "      <td>2019-02-01 00:41:29</td>\n",
       "      <td>216.0</td>\n",
       "      <td>2019-02-01 00:00:00</td>\n",
       "      <td>2</td>\n",
       "      <td>0</td>\n",
       "      <td>Friday</td>\n",
       "      <td>Late Night</td>\n",
       "      <td>Winter</td>\n",
       "      <td>4</td>\n",
       "      <td>2019</td>\n",
       "    </tr>\n",
       "    <tr>\n",
       "      <th>2</th>\n",
       "      <td>8</td>\n",
       "      <td>HV0003</td>\n",
       "      <td>B02867</td>\n",
       "      <td>2019-02-01 00:10:48</td>\n",
       "      <td>226.0</td>\n",
       "      <td>2019-02-01 00:00:00</td>\n",
       "      <td>2</td>\n",
       "      <td>0</td>\n",
       "      <td>Friday</td>\n",
       "      <td>Late Night</td>\n",
       "      <td>Winter</td>\n",
       "      <td>4</td>\n",
       "      <td>2019</td>\n",
       "    </tr>\n",
       "    <tr>\n",
       "      <th>3</th>\n",
       "      <td>9</td>\n",
       "      <td>HV0003</td>\n",
       "      <td>B02867</td>\n",
       "      <td>2019-02-01 00:32:32</td>\n",
       "      <td>7.0</td>\n",
       "      <td>2019-02-01 00:00:00</td>\n",
       "      <td>2</td>\n",
       "      <td>0</td>\n",
       "      <td>Friday</td>\n",
       "      <td>Late Night</td>\n",
       "      <td>Winter</td>\n",
       "      <td>4</td>\n",
       "      <td>2019</td>\n",
       "    </tr>\n",
       "    <tr>\n",
       "      <th>4</th>\n",
       "      <td>10</td>\n",
       "      <td>HV0003</td>\n",
       "      <td>B02867</td>\n",
       "      <td>2019-02-01 00:59:54</td>\n",
       "      <td>129.0</td>\n",
       "      <td>2019-02-01 00:00:00</td>\n",
       "      <td>2</td>\n",
       "      <td>0</td>\n",
       "      <td>Friday</td>\n",
       "      <td>Late Night</td>\n",
       "      <td>Winter</td>\n",
       "      <td>4</td>\n",
       "      <td>2019</td>\n",
       "    </tr>\n",
       "  </tbody>\n",
       "</table>\n",
       "</div>"
      ],
      "text/plain": [
       "   Unnamed: 0 hvfhs_license_num dispatching_base_num      pickup_datetime  \\\n",
       "0           0            HV0003               B02867  2019-02-01 00:05:18   \n",
       "1           1            HV0003               B02879  2019-02-01 00:41:29   \n",
       "2           8            HV0003               B02867  2019-02-01 00:10:48   \n",
       "3           9            HV0003               B02867  2019-02-01 00:32:32   \n",
       "4          10            HV0003               B02867  2019-02-01 00:59:54   \n",
       "\n",
       "   PULocationID              PU_Date  PU_Month  PU_Time PU_Weekday  \\\n",
       "0         245.0  2019-02-01 00:00:00         2        0     Friday   \n",
       "1         216.0  2019-02-01 00:00:00         2        0     Friday   \n",
       "2         226.0  2019-02-01 00:00:00         2        0     Friday   \n",
       "3           7.0  2019-02-01 00:00:00         2        0     Friday   \n",
       "4         129.0  2019-02-01 00:00:00         2        0     Friday   \n",
       "\n",
       "    time_desc  season  PU_DOW  PU_year  \n",
       "0  Late Night  Winter       4     2019  \n",
       "1  Late Night  Winter       4     2019  \n",
       "2  Late Night  Winter       4     2019  \n",
       "3  Late Night  Winter       4     2019  \n",
       "4  Late Night  Winter       4     2019  "
      ]
     },
     "execution_count": 4,
     "metadata": {},
     "output_type": "execute_result"
    }
   ],
   "source": [
    "Uber_data.head()"
   ]
  },
  {
   "cell_type": "markdown",
   "id": "335083da",
   "metadata": {},
   "source": [
    "### 1.1 average ridership between different time slot and day of week on different season(barplot)"
   ]
  },
  {
   "cell_type": "code",
   "execution_count": 92,
   "id": "7a5b9390",
   "metadata": {
    "scrolled": false
   },
   "outputs": [
    {
     "name": "stdout",
     "output_type": "stream",
     "text": [
      "CPU times: user 7min 32s, sys: 1min 42s, total: 9min 15s\n",
      "Wall time: 4min 29s\n"
     ]
    }
   ],
   "source": [
    "%time Uber_aggby_count = Uber_data.groupby(['PU_year','season','PU_Weekday','PU_Date','time_desc']).count()[['PULocationID']].compute()\n",
    "Uber_aggby_count.reset_index(inplace=True)"
   ]
  },
  {
   "cell_type": "code",
   "execution_count": 93,
   "id": "01575494",
   "metadata": {},
   "outputs": [
    {
     "name": "stdout",
     "output_type": "stream",
     "text": [
      "CPU times: user 4.6 ms, sys: 1.97 ms, total: 6.57 ms\n",
      "Wall time: 5.16 ms\n"
     ]
    }
   ],
   "source": [
    "%time Uber_aggby_avg = Uber_aggby_count.groupby(['PU_year','season','PU_Weekday','time_desc']).mean()[['PULocationID']]\n",
    "Uber_aggby_avg.reset_index(inplace=True)"
   ]
  },
  {
   "cell_type": "code",
   "execution_count": 94,
   "id": "f63c7868",
   "metadata": {
    "scrolled": true
   },
   "outputs": [
    {
     "data": {
      "text/html": [
       "<div>\n",
       "<style scoped>\n",
       "    .dataframe tbody tr th:only-of-type {\n",
       "        vertical-align: middle;\n",
       "    }\n",
       "\n",
       "    .dataframe tbody tr th {\n",
       "        vertical-align: top;\n",
       "    }\n",
       "\n",
       "    .dataframe thead th {\n",
       "        text-align: right;\n",
       "    }\n",
       "</style>\n",
       "<table border=\"1\" class=\"dataframe\">\n",
       "  <thead>\n",
       "    <tr style=\"text-align: right;\">\n",
       "      <th></th>\n",
       "      <th>PU_year</th>\n",
       "      <th>season</th>\n",
       "      <th>PU_Weekday</th>\n",
       "      <th>time_desc</th>\n",
       "      <th>PULocationID</th>\n",
       "    </tr>\n",
       "  </thead>\n",
       "  <tbody>\n",
       "    <tr>\n",
       "      <th>0</th>\n",
       "      <td>2019</td>\n",
       "      <td>Autumn</td>\n",
       "      <td>Friday</td>\n",
       "      <td>Afternoon</td>\n",
       "      <td>114645.076923</td>\n",
       "    </tr>\n",
       "    <tr>\n",
       "      <th>1</th>\n",
       "      <td>2019</td>\n",
       "      <td>Autumn</td>\n",
       "      <td>Friday</td>\n",
       "      <td>Evening</td>\n",
       "      <td>162410.230769</td>\n",
       "    </tr>\n",
       "    <tr>\n",
       "      <th>2</th>\n",
       "      <td>2019</td>\n",
       "      <td>Autumn</td>\n",
       "      <td>Friday</td>\n",
       "      <td>Late Night</td>\n",
       "      <td>126085.076923</td>\n",
       "    </tr>\n",
       "    <tr>\n",
       "      <th>3</th>\n",
       "      <td>2019</td>\n",
       "      <td>Autumn</td>\n",
       "      <td>Friday</td>\n",
       "      <td>Morning</td>\n",
       "      <td>125991.846154</td>\n",
       "    </tr>\n",
       "    <tr>\n",
       "      <th>4</th>\n",
       "      <td>2019</td>\n",
       "      <td>Autumn</td>\n",
       "      <td>Monday</td>\n",
       "      <td>Afternoon</td>\n",
       "      <td>96364.307692</td>\n",
       "    </tr>\n",
       "  </tbody>\n",
       "</table>\n",
       "</div>"
      ],
      "text/plain": [
       "   PU_year  season PU_Weekday   time_desc   PULocationID\n",
       "0     2019  Autumn     Friday   Afternoon  114645.076923\n",
       "1     2019  Autumn     Friday     Evening  162410.230769\n",
       "2     2019  Autumn     Friday  Late Night  126085.076923\n",
       "3     2019  Autumn     Friday     Morning  125991.846154\n",
       "4     2019  Autumn     Monday   Afternoon   96364.307692"
      ]
     },
     "execution_count": 94,
     "metadata": {},
     "output_type": "execute_result"
    }
   ],
   "source": [
    "Uber_aggby_avg.head()"
   ]
  },
  {
   "cell_type": "code",
   "execution_count": 95,
   "id": "8fd169ff",
   "metadata": {
    "scrolled": true
   },
   "outputs": [],
   "source": [
    "Uber_aggby_avg.rename(columns={'PULocationID':'avg_trips'},inplace=True)\n",
    "Uber_aggby_avg['avg_trips']=Uber_aggby_avg['avg_trips'].astype('int64')"
   ]
  },
  {
   "cell_type": "code",
   "execution_count": 96,
   "id": "77d92d69",
   "metadata": {},
   "outputs": [],
   "source": [
    "agg_2019_winter= Uber_aggby_avg.loc[(Uber_aggby_avg['PU_year']==2019)&(Uber_aggby_avg['season']=='Winter')]\n",
    "agg_2019_summer= Uber_aggby_avg.loc[(Uber_aggby_avg['PU_year']==2019)&(Uber_aggby_avg['season']=='Summer')]\n",
    "agg_2020_winter= Uber_aggby_avg.loc[(Uber_aggby_avg['PU_year']==2020)&(Uber_aggby_avg['season']=='Winter')]\n",
    "agg_2020_summer= Uber_aggby_avg.loc[(Uber_aggby_avg['PU_year']==2020)&(Uber_aggby_avg['season']=='Summer')]"
   ]
  },
  {
   "cell_type": "code",
   "execution_count": 97,
   "id": "8e4b9505",
   "metadata": {
    "scrolled": true
   },
   "outputs": [
    {
     "data": {
      "text/html": [
       "<div>\n",
       "<style scoped>\n",
       "    .dataframe tbody tr th:only-of-type {\n",
       "        vertical-align: middle;\n",
       "    }\n",
       "\n",
       "    .dataframe tbody tr th {\n",
       "        vertical-align: top;\n",
       "    }\n",
       "\n",
       "    .dataframe thead th {\n",
       "        text-align: right;\n",
       "    }\n",
       "</style>\n",
       "<table border=\"1\" class=\"dataframe\">\n",
       "  <thead>\n",
       "    <tr style=\"text-align: right;\">\n",
       "      <th></th>\n",
       "      <th>PU_year</th>\n",
       "      <th>season</th>\n",
       "      <th>PU_Weekday</th>\n",
       "      <th>time_desc</th>\n",
       "      <th>avg_trips</th>\n",
       "    </tr>\n",
       "  </thead>\n",
       "  <tbody>\n",
       "    <tr>\n",
       "      <th>84</th>\n",
       "      <td>2019</td>\n",
       "      <td>Winter</td>\n",
       "      <td>Friday</td>\n",
       "      <td>Afternoon</td>\n",
       "      <td>119091</td>\n",
       "    </tr>\n",
       "    <tr>\n",
       "      <th>85</th>\n",
       "      <td>2019</td>\n",
       "      <td>Winter</td>\n",
       "      <td>Friday</td>\n",
       "      <td>Evening</td>\n",
       "      <td>174791</td>\n",
       "    </tr>\n",
       "    <tr>\n",
       "      <th>86</th>\n",
       "      <td>2019</td>\n",
       "      <td>Winter</td>\n",
       "      <td>Friday</td>\n",
       "      <td>Late Night</td>\n",
       "      <td>126902</td>\n",
       "    </tr>\n",
       "    <tr>\n",
       "      <th>87</th>\n",
       "      <td>2019</td>\n",
       "      <td>Winter</td>\n",
       "      <td>Friday</td>\n",
       "      <td>Morning</td>\n",
       "      <td>131031</td>\n",
       "    </tr>\n",
       "    <tr>\n",
       "      <th>88</th>\n",
       "      <td>2019</td>\n",
       "      <td>Winter</td>\n",
       "      <td>Monday</td>\n",
       "      <td>Afternoon</td>\n",
       "      <td>106170</td>\n",
       "    </tr>\n",
       "  </tbody>\n",
       "</table>\n",
       "</div>"
      ],
      "text/plain": [
       "    PU_year  season PU_Weekday   time_desc  avg_trips\n",
       "84     2019  Winter     Friday   Afternoon     119091\n",
       "85     2019  Winter     Friday     Evening     174791\n",
       "86     2019  Winter     Friday  Late Night     126902\n",
       "87     2019  Winter     Friday     Morning     131031\n",
       "88     2019  Winter     Monday   Afternoon     106170"
      ]
     },
     "execution_count": 97,
     "metadata": {},
     "output_type": "execute_result"
    }
   ],
   "source": [
    "agg_2019_winter.head()"
   ]
  },
  {
   "cell_type": "code",
   "execution_count": 98,
   "id": "12fa588f",
   "metadata": {
    "scrolled": false
   },
   "outputs": [
    {
     "data": {
      "image/png": "[encoded data removed]",
      "text/plain": [
       "<Figure size 1440x864 with 4 Axes>"
      ]
     },
     "metadata": {
      "needs_background": "light"
     },
     "output_type": "display_data"
    }
   ],
   "source": [
    "#Winter vs Summer Trip Amount Comparison on different slot(barplot)\n",
    "wkOrder = [ 'Monday', 'Tuesday', 'Wednesday', 'Thursday', 'Friday', 'Saturday', 'Sunday']\n",
    "timeSlotOrder = ['Late Night', 'Morning', 'Afternoon', 'Evening']\n",
    "#fig, ax = plt.subplots(figsize=(7,4))\n",
    "fig, ax_arr = plt.subplots(2,2, figsize=(20,12))\n",
    "sns.barplot(x=agg_2019_winter.PU_Weekday, y=agg_2019_winter.avg_trips, hue=agg_2019_winter.time_desc,\\\n",
    "            order =wkOrder ,hue_order = timeSlotOrder,ax=ax_arr[0][0], palette = 'muted')\n",
    "ax_arr[0][0].set_ylabel('Number of Taxi Trips')\n",
    "ax_arr[0][0].set_xlabel('Day of the week')\n",
    "ax_arr[0][0].set_title('Taxi pickups at different time slot across the weekdays (2019_Winter)')\n",
    "ax_arr[0][0].legend(loc=1, ncol=4, prop={'size': 13.5})\n",
    "\n",
    "sns.barplot(x=agg_2019_summer.PU_Weekday, y=agg_2019_summer.avg_trips, hue=agg_2019_summer.time_desc,\\\n",
    "            order =wkOrder ,hue_order = timeSlotOrder,ax=ax_arr[0][1], palette = 'muted')\n",
    "ax_arr[0][1].set_ylabel('Number of Taxi Trips')\n",
    "ax_arr[0][1].set_xlabel('Day of the week')\n",
    "ax_arr[0][1].set_title('Taxi pickups at different time slot across the weekdays (2019_Summer)')\n",
    "ax_arr[0][1].legend(loc=1, ncol=4, prop={'size': 13.5})\n",
    "\n",
    "sns.barplot(x=agg_2020_winter.PU_Weekday, y=agg_2020_winter.avg_trips, hue=agg_2020_winter.time_desc,\\\n",
    "            order =wkOrder ,hue_order = timeSlotOrder,ax=ax_arr[1][0], palette = 'muted')\n",
    "ax_arr[1][0].set_ylabel('Number of Taxi Trips')\n",
    "ax_arr[1][0].set_xlabel('Day of the week')\n",
    "ax_arr[1][0].set_title('Taxi pickups at different time slot across the weekdays (2020_Winter)')\n",
    "ax_arr[1][0].legend(loc=1, ncol=4, prop={'size': 13.5})\n",
    "\n",
    "sns.barplot(x=agg_2020_summer.PU_Weekday, y=agg_2020_summer.avg_trips, hue=agg_2020_summer.time_desc,\\\n",
    "            order =wkOrder ,hue_order = timeSlotOrder,ax=ax_arr[1][1], palette = 'muted')\n",
    "ax_arr[1][1].set_ylabel('Number of Taxi Trips')\n",
    "ax_arr[1][1].set_xlabel('Day of the week')\n",
    "ax_arr[1][1].set_title('Taxi pickups at different time slot across the weekdays (2020_Summer)')\n",
    "ax_arr[1][1].legend(loc=1, ncol=4, prop={'size': 13.5})\n",
    "plt.ticklabel_format(style='plain', axis='y')\n",
    "fig.suptitle('Winter vs Summer Trip Amount Comparison on different slot(barplot)')\n",
    "plt.show()"
   ]
  },
  {
   "cell_type": "markdown",
   "id": "a62ebc11",
   "metadata": {},
   "source": [
    "### 1.2 Average Ridership between different time and DOW on different season(heatmap)"
   ]
  },
  {
   "cell_type": "code",
   "execution_count": 99,
   "id": "9313f39a",
   "metadata": {},
   "outputs": [
    {
     "name": "stdout",
     "output_type": "stream",
     "text": [
      "CPU times: user 7min 52s, sys: 1min 57s, total: 9min 49s\n",
      "Wall time: 4min 53s\n"
     ]
    }
   ],
   "source": [
    "%time Uber_aggby_count = Uber_data.groupby(['PU_year','season','PU_Weekday','PU_Date','PU_Time']).count()[['PULocationID']].compute()\n",
    "Uber_aggby_count.reset_index(inplace=True)"
   ]
  },
  {
   "cell_type": "code",
   "execution_count": 100,
   "id": "428b0c19",
   "metadata": {},
   "outputs": [
    {
     "name": "stdout",
     "output_type": "stream",
     "text": [
      "CPU times: user 8.44 ms, sys: 2.27 ms, total: 10.7 ms\n",
      "Wall time: 9.38 ms\n"
     ]
    }
   ],
   "source": [
    "%time Uber_aggby_avg = Uber_aggby_count.groupby(['PU_year','season','PU_Weekday','PU_Time']).mean()[['PULocationID']]\n",
    "Uber_aggby_avg.reset_index(inplace=True)"
   ]
  },
  {
   "cell_type": "code",
   "execution_count": 102,
   "id": "cc30fc70",
   "metadata": {},
   "outputs": [],
   "source": [
    "Uber_aggby_avg.rename(columns={'PULocationID':'avg_trips'},inplace=True)\n",
    "Uber_aggby_avg['avg_trips']=Uber_aggby_avg['avg_trips'].astype('int64')"
   ]
  },
  {
   "cell_type": "code",
   "execution_count": 103,
   "id": "2246f0b2",
   "metadata": {},
   "outputs": [],
   "source": [
    "agg_2019_winter= Uber_aggby_avg.loc[(Uber_aggby_avg['PU_year']==2019)&(Uber_aggby_avg['season']=='Winter')]\n",
    "agg_2019_summer= Uber_aggby_avg.loc[(Uber_aggby_avg['PU_year']==2019)&(Uber_aggby_avg['season']=='Summer')]\n",
    "agg_2020_winter= Uber_aggby_avg.loc[(Uber_aggby_avg['PU_year']==2020)&(Uber_aggby_avg['season']=='Winter')]\n",
    "agg_2020_summer= Uber_aggby_avg.loc[(Uber_aggby_avg['PU_year']==2020)&(Uber_aggby_avg['season']=='Summer')]"
   ]
  },
  {
   "cell_type": "code",
   "execution_count": 130,
   "id": "cd845cd0",
   "metadata": {},
   "outputs": [],
   "source": [
    "pv_table_2019_winter = pd.pivot_table(agg_2019_winter, values='avg_trips',index=['PU_Time'],columns=['PU_Weekday'], aggfunc=np.sum, fill_value=0)\n",
    "pv_table_2019_summer = pd.pivot_table(agg_2019_summer, values='avg_trips',index=['PU_Time'],columns=['PU_Weekday'], aggfunc=np.sum, fill_value=0)\n",
    "pv_table_2020_winter = pd.pivot_table(agg_2020_winter, values='avg_trips',index=['PU_Time'],columns=['PU_Weekday'], aggfunc=np.sum, fill_value=0)\n",
    "pv_table_2020_summer = pd.pivot_table(agg_2020_summer, values='avg_trips',index=['PU_Time'],columns=['PU_Weekday'], aggfunc=np.sum, fill_value=0)"
   ]
  },
  {
   "cell_type": "code",
   "execution_count": 131,
   "id": "89b1a3d3",
   "metadata": {},
   "outputs": [],
   "source": [
    "pv_table_2019_winter = pv_table_2019_winter[[ 'Monday', 'Tuesday', 'Wednesday', 'Thursday', 'Friday', 'Saturday', 'Sunday']].sort_values(by='PU_Time',ascending=False)\n",
    "pv_table_2019_summer = pv_table_2019_summer[[ 'Monday', 'Tuesday', 'Wednesday', 'Thursday', 'Friday', 'Saturday', 'Sunday']].sort_values(by='PU_Time',ascending=False)\n",
    "pv_table_2020_winter = pv_table_2020_winter[[ 'Monday', 'Tuesday', 'Wednesday', 'Thursday', 'Friday', 'Saturday', 'Sunday']].sort_values(by='PU_Time',ascending=False)\n",
    "pv_table_2020_summer = pv_table_2020_summer[[ 'Monday', 'Tuesday', 'Wednesday', 'Thursday', 'Friday', 'Saturday', 'Sunday']].sort_values(by='PU_Time',ascending=False)"
   ]
  },
  {
   "cell_type": "code",
   "execution_count": 132,
   "id": "941319b2",
   "metadata": {},
   "outputs": [
    {
     "data": {
      "image/png": "[encoded data removed]",
      "text/plain": [
       "<Figure size 1440x720 with 4 Axes>"
      ]
     },
     "metadata": {
      "needs_background": "light"
     },
     "output_type": "display_data"
    }
   ],
   "source": [
    "fig, (ax,ax2) = plt.subplots(ncols=2, figsize=(20, 10))\n",
    "fig.subplots_adjust(wspace=0.005)\n",
    "\n",
    "day_hour_winter = sns.heatmap(pv_table_2019_winter, ax=ax, cmap=\"coolwarm\", cbar=False)\n",
    "fig.colorbar(ax.collections[0], label='Number of trips', ax=ax,location=\"left\", use_gridspec=False, pad=0.07)\n",
    "\n",
    "day_hour_summer = sns.heatmap(pv_table_2019_summer, ax=ax2, cmap=\"coolwarm\", cbar=False)\n",
    "fig.colorbar(ax2.collections[0], label='Number of trips', ax=ax2,location=\"right\", use_gridspec=False, pad=0.07)\n",
    "ax.set_title('winter')\n",
    "ax2.set_title('summer')\n",
    "ax2.yaxis.set_label_position(\"right\")\n",
    "ax2.yaxis.tick_right()\n",
    "ax2.tick_params(rotation=0)\n",
    "fig.suptitle('Average Ridership between different time and DOW on different season(heatmap)(2019 year)')\n",
    "plt.show()"
   ]
  },
  {
   "cell_type": "code",
   "execution_count": 133,
   "id": "1a5b2c2e",
   "metadata": {},
   "outputs": [
    {
     "data": {
      "image/png": "[encoded data removed]",
      "text/plain": [
       "<Figure size 1440x720 with 4 Axes>"
      ]
     },
     "metadata": {
      "needs_background": "light"
     },
     "output_type": "display_data"
    }
   ],
   "source": [
    "fig, (ax,ax2) = plt.subplots(ncols=2, figsize=(20, 10))\n",
    "fig.subplots_adjust(wspace=0.005)\n",
    "\n",
    "day_hour_winter = sns.heatmap(pv_table_2020_winter, ax=ax, cmap=\"coolwarm\", cbar=False)\n",
    "fig.colorbar(ax.collections[0], label='Number of trips', ax=ax,location=\"left\", use_gridspec=False, pad=0.07)\n",
    "\n",
    "day_hour_summer = sns.heatmap(pv_table_2020_summer, ax=ax2, cmap=\"coolwarm\", cbar=False)\n",
    "fig.colorbar(ax2.collections[0], label='Number of trips', ax=ax2,location=\"right\", use_gridspec=False, pad=0.07)\n",
    "ax.set_title('winter')\n",
    "ax2.set_title('summer')\n",
    "ax2.yaxis.set_label_position(\"right\")\n",
    "ax2.yaxis.tick_right()\n",
    "ax2.tick_params(rotation=0)\n",
    "fig.suptitle('Average Ridership between different time and DOW on different season(heatmap)(2020 year)')\n",
    "plt.show()"
   ]
  },
  {
   "cell_type": "markdown",
   "id": "3b82757e",
   "metadata": {},
   "source": [
    "### 2.NYC Weather Data Processing"
   ]
  },
  {
   "cell_type": "code",
   "execution_count": 9,
   "id": "514822ff",
   "metadata": {},
   "outputs": [
    {
     "data": {
      "text/html": [
       "<div>\n",
       "<style scoped>\n",
       "    .dataframe tbody tr th:only-of-type {\n",
       "        vertical-align: middle;\n",
       "    }\n",
       "\n",
       "    .dataframe tbody tr th {\n",
       "        vertical-align: top;\n",
       "    }\n",
       "\n",
       "    .dataframe thead th {\n",
       "        text-align: right;\n",
       "    }\n",
       "</style>\n",
       "<table border=\"1\" class=\"dataframe\">\n",
       "  <thead>\n",
       "    <tr style=\"text-align: right;\">\n",
       "      <th></th>\n",
       "      <th>STATION</th>\n",
       "      <th>NAME</th>\n",
       "      <th>DATE</th>\n",
       "      <th>PRCP</th>\n",
       "      <th>SNOW</th>\n",
       "      <th>SNWD</th>\n",
       "      <th>TMAX</th>\n",
       "      <th>TMIN</th>\n",
       "    </tr>\n",
       "  </thead>\n",
       "  <tbody>\n",
       "    <tr>\n",
       "      <th>0</th>\n",
       "      <td>USC00280907</td>\n",
       "      <td>BOONTON 1 SE, NJ US</td>\n",
       "      <td>2018-01-01</td>\n",
       "      <td>0.00</td>\n",
       "      <td>0.0</td>\n",
       "      <td>0.0</td>\n",
       "      <td>13.0</td>\n",
       "      <td>4.0</td>\n",
       "    </tr>\n",
       "    <tr>\n",
       "      <th>1</th>\n",
       "      <td>USC00280907</td>\n",
       "      <td>BOONTON 1 SE, NJ US</td>\n",
       "      <td>2018-01-02</td>\n",
       "      <td>0.00</td>\n",
       "      <td>0.0</td>\n",
       "      <td>0.0</td>\n",
       "      <td>17.0</td>\n",
       "      <td>3.0</td>\n",
       "    </tr>\n",
       "    <tr>\n",
       "      <th>2</th>\n",
       "      <td>USC00280907</td>\n",
       "      <td>BOONTON 1 SE, NJ US</td>\n",
       "      <td>2018-01-03</td>\n",
       "      <td>0.00</td>\n",
       "      <td>0.0</td>\n",
       "      <td>0.0</td>\n",
       "      <td>24.0</td>\n",
       "      <td>7.0</td>\n",
       "    </tr>\n",
       "    <tr>\n",
       "      <th>3</th>\n",
       "      <td>USC00280907</td>\n",
       "      <td>BOONTON 1 SE, NJ US</td>\n",
       "      <td>2018-01-04</td>\n",
       "      <td>0.00</td>\n",
       "      <td>0.0</td>\n",
       "      <td>0.0</td>\n",
       "      <td>27.0</td>\n",
       "      <td>5.0</td>\n",
       "    </tr>\n",
       "    <tr>\n",
       "      <th>4</th>\n",
       "      <td>USC00280907</td>\n",
       "      <td>BOONTON 1 SE, NJ US</td>\n",
       "      <td>2018-01-05</td>\n",
       "      <td>0.56</td>\n",
       "      <td>5.0</td>\n",
       "      <td>5.0</td>\n",
       "      <td>24.0</td>\n",
       "      <td>7.0</td>\n",
       "    </tr>\n",
       "  </tbody>\n",
       "</table>\n",
       "</div>"
      ],
      "text/plain": [
       "       STATION                 NAME        DATE  PRCP  SNOW  SNWD  TMAX  TMIN\n",
       "0  USC00280907  BOONTON 1 SE, NJ US  2018-01-01  0.00   0.0   0.0  13.0   4.0\n",
       "1  USC00280907  BOONTON 1 SE, NJ US  2018-01-02  0.00   0.0   0.0  17.0   3.0\n",
       "2  USC00280907  BOONTON 1 SE, NJ US  2018-01-03  0.00   0.0   0.0  24.0   7.0\n",
       "3  USC00280907  BOONTON 1 SE, NJ US  2018-01-04  0.00   0.0   0.0  27.0   5.0\n",
       "4  USC00280907  BOONTON 1 SE, NJ US  2018-01-05  0.56   5.0   5.0  24.0   7.0"
      ]
     },
     "execution_count": 9,
     "metadata": {},
     "output_type": "execute_result"
    }
   ],
   "source": [
    "USA_weather = pd.read_csv('nyc_weather_data.csv',usecols=['STATION','NAME','DATE','AWND','PRCP','SNOW','SNWD','TMAX','TMIN'])\n",
    "USA_weather.head()"
   ]
  },
  {
   "cell_type": "code",
   "execution_count": 11,
   "id": "669a2851",
   "metadata": {},
   "outputs": [],
   "source": [
    "# Chose the weather information for Central Park to represent the weather conditions in New York City\n",
    "#Time range(year):2019~2020\n",
    "USA_weather['DATE'] = pd.to_datetime(USA_weather['DATE'])\n",
    "NYC_weather = USA_weather.loc[USA_weather['STATION']=='USW00094728']\n",
    "NYC_weather = NYC_weather.loc[(NYC_weather['DATE']>='2019-01-01') & (NYC_weather['DATE']<='2020-12-31')]\n",
    "#NYC_weather['Date'] =NYC_weather['DATE'].dt.date"
   ]
  },
  {
   "cell_type": "code",
   "execution_count": 13,
   "id": "4c086f50",
   "metadata": {},
   "outputs": [
    {
     "data": {
      "text/plain": [
       "(731, 8)"
      ]
     },
     "execution_count": 13,
     "metadata": {},
     "output_type": "execute_result"
    }
   ],
   "source": [
    "NYC_weather.shape"
   ]
  },
  {
   "cell_type": "code",
   "execution_count": null,
   "id": "0fad17b8",
   "metadata": {},
   "outputs": [],
   "source": [
    "NYC_weather['TAVG'] = (NYC_weather['TMAX']+NYC_weather['TMIN'])/2"
   ]
  },
  {
   "cell_type": "code",
   "execution_count": null,
   "id": "6f72ab36",
   "metadata": {},
   "outputs": [],
   "source": []
  },
  {
   "cell_type": "markdown",
   "id": "442776d9",
   "metadata": {},
   "source": [
    "### 3. merge ridership data with weather"
   ]
  },
  {
   "cell_type": "code",
   "execution_count": null,
   "id": "669d61a5",
   "metadata": {},
   "outputs": [],
   "source": [
    "Uber_aggby_date = Uber_data.groupby(['PU_year','season','PU_Date']).count()[['PULocationID']]"
   ]
  },
  {
   "cell_type": "code",
   "execution_count": null,
   "id": "a1a75d8b",
   "metadata": {},
   "outputs": [],
   "source": [
    "taxi_weather_data = pd.DataFrame(pd.merge(Uber_aggby_date, weather, left_on='PU_Date', right_on='DATE')).drop('DATE', axis=1)"
   ]
  },
  {
   "cell_type": "code",
   "execution_count": null,
   "id": "c71feef5",
   "metadata": {},
   "outputs": [],
   "source": [
    "#Uber taxi ridership distribution by precipitation(inches)\n"
   ]
  },
  {
   "cell_type": "code",
   "execution_count": null,
   "id": "4ab91a12",
   "metadata": {},
   "outputs": [],
   "source": [
    "#Uber taxi ridership distribution by temperature(F)"
   ]
  },
  {
   "cell_type": "code",
   "execution_count": null,
   "id": "8ec03de5",
   "metadata": {},
   "outputs": [],
   "source": [
    "#Uber taxi ridership distribution by snowfall(inches)"
   ]
  }
 ],
 "metadata": {
  "kernelspec": {
   "display_name": "Python 3 (ipykernel)",
   "language": "python",
   "name": "python3"
  },
  "language_info": {
   "codemirror_mode": {
    "name": "ipython",
    "version": 3
   },
   "file_extension": ".py",
   "mimetype": "text/x-python",
   "name": "python",
   "nbconvert_exporter": "python",
   "pygments_lexer": "ipython3",
   "version": "3.7.4"
  }
 },
 "nbformat": 4,
 "nbformat_minor": 5
}
